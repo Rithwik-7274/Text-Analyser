{
 "cells": [
  {
   "cell_type": "code",
   "execution_count": 1,
   "id": "6115806a",
   "metadata": {},
   "outputs": [],
   "source": [
    "    file = open('xyz.txt', 'r')\n",
    "    text = file.read()\n",
    "    file.close()"
   ]
  },
  {
   "cell_type": "code",
   "execution_count": 2,
   "id": "38b66499",
   "metadata": {},
   "outputs": [],
   "source": [
    "def real_words(text) :\n",
    "    \"\"\"Converts words that might have symbols to purely words\"\"\"\n",
    "    words = text.lower().split()\n",
    "    actual_words = []\n",
    "    for i in words :\n",
    "        temp_word = ''\n",
    "        for j in i :\n",
    "            if j.isalpha() :\n",
    "                temp_word = temp_word + j\n",
    "        actual_words.append(temp_word)\n",
    "    # To remove '' or ' ' from our words \n",
    "    actual_words = [word for word in actual_words if word.strip()]\n",
    "    return actual_words"
   ]
  },
  {
   "cell_type": "code",
   "execution_count": 11,
   "id": "c474e39f",
   "metadata": {},
   "outputs": [
    {
     "name": "stdout",
     "output_type": "stream",
     "text": [
      "The number of unique words in the text are 59\n"
     ]
    }
   ],
   "source": [
    "def unique_words(lst) :\n",
    "    \"\"\"To calculate the number of unique words in a list of words\"\"\"\n",
    "    unique = set(lst)\n",
    "    unique = list(unique)\n",
    "    return len(unique)\n",
    "\n",
    "print(\"The number of unique words in the text are\", unique_words(text))"
   ]
  },
  {
   "cell_type": "code",
   "execution_count": 12,
   "id": "5a8f39e3",
   "metadata": {},
   "outputs": [
    {
     "name": "stdout",
     "output_type": "stream",
     "text": [
      "The word with the highest occurence is ('the', 380)\n"
     ]
    }
   ],
   "source": [
    "def word_with_highest_occurence(lst) :\n",
    "    \"\"\"To find out the word with the highest number of occurences in a list of words\"\"\"\n",
    "    unique = set(lst)\n",
    "    unique = list(unique)\n",
    "    word = ''\n",
    "    occurences = []\n",
    "    for i in unique :\n",
    "        occurences.append(lst.count(i))\n",
    "    return unique[occurences.index(max(occurences))], max(occurences)\n",
    "\n",
    "print('The word with the highest occurence is', word_with_highest_occurence(real_words(text)))"
   ]
  },
  {
   "cell_type": "code",
   "execution_count": 8,
   "id": "e0af804a",
   "metadata": {},
   "outputs": [
    {
     "name": "stdout",
     "output_type": "stream",
     "text": [
      "(('total_sentences', 277), ('total_paragraphs', 38), ('average_words_per_sentence', 26.660649819494584), ('average_words_per_paragraph', 194.3421052631579), ('words_in_each_sentence', [21, 42, 24, 12, 56, 65, 36, 8, 66, 46, 50, 32, 36, 54, 45, 36, 30, 8, 103, 74, 44, 36, 87, 55, 16, 75, 9, 121, 68, 66, 20, 18, 56, 32, 36, 54, 118, 37, 10, 6, 27, 25, 33, 21, 60, 58, 26, 44, 23, 6, 46, 28, 42, 27, 27, 13, 13, 22, 9, 11, 22, 16, 58, 49, 37, 42, 36, 29, 26, 11, 73, 22, 7, 29, 11, 11, 54, 14, 4, 30, 37, 28, 27, 52, 9, 19, 88, 21, 22, 27, 76, 22, 4, 83, 47, 20, 7, 18, 24, 30, 39, 126, 43, 1, 24, 25, 39, 34, 40, 26, 17, 71, 39, 21, 38, 52, 52, 12, 16, 13, 51, 15, 24, 14, 27, 19, 8, 23, 24, 8, 31, 13, 11, 30, 41, 23, 6, 26, 39, 32, 35, 4, 12, 11, 10, 39, 21, 30, 48, 32, 14, 59, 5, 14, 9, 35, 14, 18, 13, 15, 36, 27, 12, 35, 14, 15, 15, 13, 35, 13, 13, 25, 5, 25, 24, 10, 17, 21, 14, 19, 64, 20, 22, 44, 49, 2, 31, 12, 1, 8, 16, 44, 3, 22, 26, 1, 18, 4, 8, 10, 17, 7, 13, 37, 12, 21, 10, 19, 9, 21, 11, 27, 18, 8, 9, 17, 19, 3, 3, 11, 17, 28, 8, 14, 23, 11, 16, 4, 1, 13, 36, 16, 17, 24, 1, 44, 58, 18, 37, 13, 5, 9, 21, 37, 3, 1, 33, 18, 15, 8, 9, 35, 5, 1, 19, 26, 40, 6, 27, 18, 1, 17, 7, 9, 8, 26, 31, 11, 49, 52, 7, 21, 2, 22, 3, 25, 32]), ('words_in_each_paragraph', [87, 133, 156, 118, 276, 387, 598, 370, 389, 276, 135, 285, 168, 441, 520, 131, 74, 39, 54, 96, 15, 24, 32, 39, 203, 136, 184, 78, 186, 198, 281, 71, 85, 45, 366, 335, 119, 255]))\n"
     ]
    }
   ],
   "source": [
    "def sentence_and_paragraph_stats(text) :\n",
    "    \"\"\"Analyzes the given text to get sentence and paragraph statistics\"\"\"\n",
    "    sentences = text.split('.')\n",
    "    sentences = [sentence for sentence in sentences if sentence.strip()]\n",
    "    paragraphs = text.split('\\n\\n')\n",
    "\n",
    "    words_in_each_sentence = [len(real_words(sentence)) for sentence in sentences]\n",
    "    words_in_each_paragraph = [len(real_words(paragraph)) for paragraph in paragraphs]\n",
    "\n",
    "    total_sentences = len(sentences)\n",
    "    total_paragraphs = len(paragraphs)\n",
    "\n",
    "    average_words_per_sentence = len(real_words(text)) / total_sentences\n",
    "    average_words_per_paragraph = len(real_words(text)) / total_paragraphs\n",
    "\n",
    "    return (\n",
    "        ('total_sentences', total_sentences),\n",
    "        ('total_paragraphs', total_paragraphs),\n",
    "        ('average_words_per_sentence', average_words_per_sentence),\n",
    "        ('average_words_per_paragraph', average_words_per_paragraph),\n",
    "        ('words_in_each_sentence', words_in_each_sentence),\n",
    "        ('words_in_each_paragraph', words_in_each_paragraph)\n",
    "    )\n",
    "    \n",
    "print(sentence_and_paragraph_stats(text))"
   ]
  },
  {
   "cell_type": "code",
   "execution_count": 9,
   "id": "da1695eb",
   "metadata": {},
   "outputs": [
    {
     "name": "stdout",
     "output_type": "stream",
     "text": [
      "(('average_word_length', 4.303588354773189), ('percentage_words_over_6_letters', 14.989844278943806), ('sentence_complexity', 'Complex'))\n"
     ]
    }
   ],
   "source": [
    "def readability_metrics(text) :\n",
    "    \"\"\"Calculates the readability metric of the given text\"\"\"\n",
    "    words = real_words(text)\n",
    "    total_word_length = sum(len(word) for word in words)\n",
    "    average_word_length = total_word_length / len(words)\n",
    "    \n",
    "    long_words = [word for word in words if len(word) > 6]\n",
    "    percentage_of_words_over_6_letters = (len(long_words) / len(words)) * 100\n",
    "    \n",
    "    average_words_per_sentence = sentence_and_paragraph_stats(text)[2][1]\n",
    "    \n",
    "    if average_words_per_sentence < 10:\n",
    "        sentence_complexity = \"Simple\"\n",
    "    elif average_words_per_sentence < 20:\n",
    "        sentence_complexity = \"Moderate\"\n",
    "    else:\n",
    "        sentence_complexity = \"Complex\"\n",
    "    \n",
    "    return (\n",
    "        ('average_word_length', average_word_length),\n",
    "        ('percentage_words_over_6_letters', percentage_of_words_over_6_letters),\n",
    "        ('sentence_complexity', sentence_complexity)\n",
    "    )\n",
    "    \n",
    "print(readability_metrics(text))"
   ]
  }
 ],
 "metadata": {
  "kernelspec": {
   "display_name": "Python 3",
   "language": "python",
   "name": "python3"
  },
  "language_info": {
   "codemirror_mode": {
    "name": "ipython",
    "version": 3
   },
   "file_extension": ".py",
   "mimetype": "text/x-python",
   "name": "python",
   "nbconvert_exporter": "python",
   "pygments_lexer": "ipython3",
   "version": "3.13.2"
  }
 },
 "nbformat": 4,
 "nbformat_minor": 5
}
